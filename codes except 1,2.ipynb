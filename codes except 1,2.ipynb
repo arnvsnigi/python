{
 "cells": [
  {
   "cell_type": "code",
   "execution_count": 1,
   "id": "f058aab4",
   "metadata": {},
   "outputs": [
    {
     "name": "stdout",
     "output_type": "stream",
     "text": [
      "Enter element 1 1\n",
      "Enter element 2 2\n",
      "Enter element 3 3\n",
      "Enter element 4 4\n",
      "Enter element 5 5\n",
      "5\n"
     ]
    }
   ],
   "source": [
    "lst=[]\n",
    "for i in range(5):\n",
    "    s=int(input(f\"Enter element {i+1} \"))\n",
    "    lst.append(s)\n",
    "x=5\n",
    "y=3\n",
    "for i in lst:\n",
    "    if(i%x==0 and i%y!=0):\n",
    "        print(i)\n",
    "\n",
    "    "
   ]
  },
  {
   "cell_type": "code",
   "execution_count": 2,
   "id": "0b294448",
   "metadata": {},
   "outputs": [
    {
     "name": "stdout",
     "output_type": "stream",
     "text": [
      "Enter element 1 1\n",
      "Enter element 2 2\n",
      "Enter element 3 3\n",
      "Enter element 4 4\n",
      "Enter element 5 5\n",
      "9\n",
      "6\n"
     ]
    }
   ],
   "source": [
    "lst=[]\n",
    "e,o=0,0\n",
    "for i in range(5):\n",
    "    s=int(input(f\"Enter element {i+1} \"))\n",
    "    if(s%2==0):\n",
    "        e=e+s\n",
    "    else:\n",
    "        o=o+s\n",
    "    lst.append(s)\n",
    "print(o)\n",
    "print(e)"
   ]
  },
  {
   "cell_type": "code",
   "execution_count": 3,
   "id": "9e5617e3",
   "metadata": {},
   "outputs": [
    {
     "name": "stdout",
     "output_type": "stream",
     "text": [
      "Enter element 1 1\n",
      "Enter element 2 2\n",
      "Enter element 3 3\n",
      "Enter element 4 4\n",
      "Enter element 5 5\n",
      "2\n",
      "4\n"
     ]
    }
   ],
   "source": [
    "lst=[]\n",
    "for i in range(5):\n",
    "    s=int(input(f\"Enter element {i+1} \"))\n",
    "    lst.append(s)\n",
    "for i in range(len(lst)):\n",
    "    if(i%2!=0):\n",
    "        print(lst[i])    "
   ]
  },
  {
   "cell_type": "code",
   "execution_count": 39,
   "id": "6e835f8a",
   "metadata": {},
   "outputs": [
    {
     "name": "stdout",
     "output_type": "stream",
     "text": [
      "Enter element 1 1\n",
      "Enter element 2 3\n",
      "Enter element 3 1\n",
      "Enter element 4 3\n",
      "Enter element 5 5\n"
     ]
    },
    {
     "data": {
      "text/plain": [
       "[1, 3, 5]"
      ]
     },
     "execution_count": 39,
     "metadata": {},
     "output_type": "execute_result"
    }
   ],
   "source": [
    "lst=[]\n",
    "\n",
    "for i in range(5):\n",
    "    s=int(input(f\"Enter element {i+1} \"))\n",
    "    lst.append(s)\n",
    "    \n",
    "\n",
    "tup=set(lst)\n",
    "sorted(tup)"
   ]
  },
  {
   "cell_type": "code",
   "execution_count": 10,
   "id": "1b9fc279",
   "metadata": {},
   "outputs": [
    {
     "data": {
      "text/plain": [
       "[(6, 24, 12), (60, 12, 6)]"
      ]
     },
     "execution_count": 10,
     "metadata": {},
     "output_type": "execute_result"
    }
   ],
   "source": [
    "test_list = [(6, 24, 12), (60, 12, 6), (12, 18,21)]\n",
    "list=[]\n",
    "K = 6\n",
    "for ele in test_list:\n",
    "    f=1\n",
    "    for i in ele:\n",
    "        if(i%K!=0):\n",
    "            f=-1\n",
    "            break\n",
    "    if(f==1):\n",
    "        list.append(ele)\n",
    "list"
   ]
  },
  {
   "cell_type": "code",
   "execution_count": 14,
   "id": "7a652a6f",
   "metadata": {},
   "outputs": [
    {
     "data": {
      "text/plain": [
       "[('GFG', 'IS', 'BEST')]"
      ]
     },
     "execution_count": 14,
     "metadata": {},
     "output_type": "execute_result"
    }
   ],
   "source": [
    "test_list = [(\"GFG\", \"IS\", \"BEST\"), (\"GFg\",\"AVERAGE\"), (\"GfG\", ), (\"Gfg\", \"CS\")]\n",
    "\n",
    "list=[]\n",
    "K = 6\n",
    "for ele in test_list:\n",
    "    f=1\n",
    "    for i in ele:\n",
    "        if(i.isupper()==False):\n",
    "            f=-1\n",
    "            break\n",
    "    if(f==1):\n",
    "        list.append(ele)\n",
    "list"
   ]
  },
  {
   "cell_type": "code",
   "execution_count": 26,
   "id": "28bd2e5d",
   "metadata": {},
   "outputs": [
    {
     "data": {
      "text/plain": [
       "3"
      ]
     },
     "execution_count": 26,
     "metadata": {},
     "output_type": "execute_result"
    }
   ],
   "source": [
    "tup = ('a', 'a', 'c', 'b', 'd')\n",
    "list = ['a', 'b']\n",
    "cnt=0\n",
    "for ele in list:\n",
    "    for i in tup:\n",
    "        if(i==ele):\n",
    "            cnt=cnt+1\n",
    "cnt"
   ]
  },
  {
   "cell_type": "code",
   "execution_count": 40,
   "id": "ffbbb10e",
   "metadata": {},
   "outputs": [
    {
     "name": "stdout",
     "output_type": "stream",
     "text": [
      "Raj\n",
      "2002\n",
      "{'name': 'Raj', 'age': 21}\n",
      "dict_keys(['name', 'age'])\n",
      "dict_values(['Raj', 21])\n",
      "dict_items([('name', 'Raj'), ('age', 21)])\n"
     ]
    }
   ],
   "source": [
    "dc=dict()\n",
    "dc['name']='Raj'\n",
    "dc['age']=21\n",
    "dc['year']=2001\n",
    "\n",
    "dc['year']=2002\n",
    "\n",
    "print(dc.get('name'))\n",
    "print(dc['year'])\n",
    "\n",
    "del(dc['year'])\n",
    "\n",
    "print(dc)\n",
    "print(dc.keys())\n",
    "print(dc.values())\n",
    "print(dc.items())"
   ]
  },
  {
   "cell_type": "code",
   "execution_count": 41,
   "id": "a1b6d491",
   "metadata": {},
   "outputs": [
    {
     "name": "stdout",
     "output_type": "stream",
     "text": [
      "Raj\n",
      "('year', 2001)\n"
     ]
    },
    {
     "data": {
      "text/plain": [
       "{}"
      ]
     },
     "execution_count": 41,
     "metadata": {},
     "output_type": "execute_result"
    }
   ],
   "source": [
    "dc=dict()\n",
    "dc['name']='Raj'\n",
    "dc['age']=21\n",
    "dc['year']=2001\n",
    "\n",
    "print(dc.pop('name'))\n",
    "print(dc.popitem())\n",
    "dc.clear()\n",
    "dc"
   ]
  },
  {
   "cell_type": "code",
   "execution_count": 15,
   "id": "3fc8f177",
   "metadata": {},
   "outputs": [
    {
     "data": {
      "text/plain": [
       "30"
      ]
     },
     "execution_count": 15,
     "metadata": {},
     "output_type": "execute_result"
    }
   ],
   "source": [
    "dc=dict()\n",
    "dc[1]=10\n",
    "dc[2]=10\n",
    "dc[3]=10\n",
    "sum(dc.values())"
   ]
  },
  {
   "cell_type": "code",
   "execution_count": 38,
   "id": "b7cf5b77",
   "metadata": {},
   "outputs": [
    {
     "data": {
      "text/plain": [
       "{'1': 10, '2': 10, '3': 10, '4': 20, '5': 20, '6': 20}"
      ]
     },
     "execution_count": 38,
     "metadata": {},
     "output_type": "execute_result"
    }
   ],
   "source": [
    "dc=dict()\n",
    "dc['1']=10\n",
    "dc['2']=10\n",
    "dc['3']=10\n",
    "\n",
    "dc2=dict()\n",
    "dc2['4']=20\n",
    "dc2['5']=20\n",
    "dc2['6']=20\n",
    "\n",
    "dc.update(dc2)\n",
    "dc"
   ]
  },
  {
   "cell_type": "code",
   "execution_count": 43,
   "id": "9b9511b3",
   "metadata": {},
   "outputs": [
    {
     "name": "stdout",
     "output_type": "stream",
     "text": [
      "Model:BMW\n",
      "color:White\n",
      "price:10000000\n",
      "top_speed:240\n",
      "\n",
      "Model:None\n",
      "color:None\n",
      "price:None\n",
      "top_speed:None\n",
      "\n"
     ]
    }
   ],
   "source": [
    "class Car:\n",
    "    def __init__(self,model_name,color,price,top_speed):\n",
    "        self.model_name=model_name\n",
    "        self.color=color\n",
    "        self.price=price\n",
    "        self.top_speed=top_speed\n",
    "    \n",
    "    def read(self):\n",
    "        print(f\"Model:{self.model_name}\")\n",
    "        print(f\"color:{self.color}\")\n",
    "        print(f\"price:{self.price}\")\n",
    "        print(f\"top_speed:{self.top_speed}\\n\")\n",
    "car1=Car(\"BMW\",\"White\",\"10000000\",\"240\")\n",
    "car1.read()\n",
    "\n",
    "car2=Car(None,None,None,None)\n",
    "car2.read()"
   ]
  },
  {
   "cell_type": "code",
   "execution_count": 48,
   "id": "74e0ea43",
   "metadata": {},
   "outputs": [
    {
     "name": "stdout",
     "output_type": "stream",
     "text": [
      "Bank Name:RBI\n",
      "No of customers:3.7B\n",
      "\n",
      "\n",
      "Bank Name:SBI\n",
      "No of customers:2.5B\n",
      "Branch Name:Saket\n",
      "ifsc code:2BC45G1\n",
      "\n",
      "Bank Name:Axis\n",
      "No of customers:2B\n",
      "Branch Name:Saket\n",
      "ifsc code:2BC45G1\n",
      "\n"
     ]
    }
   ],
   "source": [
    "class Bank:\n",
    "    def __init__(self,bank_name,no_cust):\n",
    "        self.bank_name=bank_name\n",
    "        self.no_cust=no_cust\n",
    "        \n",
    "    def display(self):\n",
    "        print(f\"Bank Name:{self.bank_name}\")\n",
    "        print(f\"No of customers:{self.no_cust}\")\n",
    "\n",
    "class Govt_Bank(Bank):\n",
    "    \n",
    "    def __init__(self,bank_name,no_cust,branch_name,ifsc_code):\n",
    "        super().__init__(bank_name,no_cust)\n",
    "        self.branch_name=branch_name\n",
    "        self.ifsc_code=ifsc_code\n",
    "        \n",
    "    def display(self):\n",
    "        super().display()\n",
    "        print(f\"Branch Name:{self.branch_name}\")\n",
    "        print(f\"ifsc code:{self.ifsc_code}\\n\")\n",
    "\n",
    "class Pvt_Bank(Bank):\n",
    "    \n",
    "    def __init__(self,bank_name,no_cust,branch_name,ifsc_code):\n",
    "        super().__init__(bank_name,no_cust)\n",
    "        self.branch_name=branch_name\n",
    "        self.ifsc_code=ifsc_code\n",
    "        \n",
    "    def display(self):\n",
    "        super().display()\n",
    "        print(f\"Branch Name:{self.branch_name}\")\n",
    "        print(f\"ifsc code:{self.ifsc_code}\\n\")\n",
    "\n",
    "bank1=Bank(\"RBI\",\"3.7B\")\n",
    "bank1.display()\n",
    "print(\"\\n\")\n",
    "bank2=Govt_Bank(\"SBI\",\"2.5B\",\"Saket\",\"2BC45G1\")\n",
    "bank2.display()\n",
    "\n",
    "bank3=Pvt_Bank(\"Axis\",\"2B\",\"Saket\",\"2BC45G1\")\n",
    "bank3.display()\n"
   ]
  },
  {
   "cell_type": "code",
   "execution_count": 8,
   "id": "c7cd3bbc",
   "metadata": {},
   "outputs": [
    {
     "name": "stdout",
     "output_type": "stream",
     "text": [
      "Add time:03:51:10\n",
      "Subtract time:01:10:10\n"
     ]
    }
   ],
   "source": [
    "class Time:\n",
    "    def __init__(self,hours=0,minutes=0,seconds=0):\n",
    "        self.hours=hours\n",
    "        self.minutes=minutes\n",
    "        self.seconds=seconds\n",
    "    def __add__(self,other):\n",
    "        time_sec=self.hours*3600+self.minutes*60+self.seconds\n",
    "        time_sec=time_sec+other.hours*3600+other.minutes*60+other.seconds\n",
    "        \n",
    "        new_hr,rem=divmod(time_sec,3600)\n",
    "        new_min,new_sec=divmod(rem,60)\n",
    "        \n",
    "        return Time(new_hr,new_min,new_sec)\n",
    "    def __sub__(self,other):\n",
    "        time_sec=self.hours*3600+self.minutes*60+self.seconds\n",
    "        time_sec=time_sec-(other.hours*3600+other.minutes*60+other.seconds)\n",
    "        \n",
    "        new_hr,rem=divmod(time_sec,3600)\n",
    "        new_min,new_sec=divmod(rem,60)\n",
    "        \n",
    "        return Time(new_hr,new_min,new_sec)\n",
    "\n",
    "t1=Time(1,20,30)\n",
    "t2=Time(2,30,40)\n",
    "\n",
    "t3=t1+t2\n",
    "t4=t2-t1\n",
    "\n",
    "print(f'Add time:{t3.hours:02d}:{t3.minutes:02d}:{t3.seconds:02d}')\n",
    "print(f'Subtract time:{t4.hours:02d}:{t4.minutes:02d}:{t4.seconds:02d}')\n",
    "    "
   ]
  },
  {
   "cell_type": "code",
   "execution_count": 1,
   "id": "993a4a82",
   "metadata": {},
   "outputs": [
    {
     "name": "stdout",
     "output_type": "stream",
     "text": [
      "Enter filename:practice.rtf\n",
      "2 : 46 : 703\n"
     ]
    }
   ],
   "source": [
    "def count(filename):\n",
    "    try:\n",
    "        with open(filename,'r') as file:\n",
    "            content=file.read()\n",
    "            sentence_count=content.count('.')+content.count('!')+content.count('?')\n",
    "            words_count=len(content.split(' '))\n",
    "            chars_count=len(content)\n",
    "        print(f'{sentence_count} : {words_count} : {chars_count}')\n",
    "    except FileNotFoundError:\n",
    "        print(f'{filename} not found')\n",
    "filename=input('Enter filename:')\n",
    "count(filename)"
   ]
  },
  {
   "cell_type": "code",
   "execution_count": null,
   "id": "182ca85d",
   "metadata": {},
   "outputs": [],
   "source": [
    "def func(file_src,file_tgt):\n",
    "    try:\n",
    "        with open(file_src,'r') as source,open(file_tgt,'w') as target:\n",
    "            for ele in source:\n",
    "                target.write(ele.lower())\n",
    "        with open(file_target,'r') as target:\n",
    "            lines=sum[1 for line in target]\n",
    "            print(f'lines copied:{lines}')\n",
    "    except FileNotFoundError:\n",
    "        print(f'File was not found')\n",
    "func(source_filename,target_filename)"
   ]
  },
  {
   "cell_type": "code",
   "execution_count": 6,
   "id": "4fe48687",
   "metadata": {},
   "outputs": [
    {
     "name": "stdout",
     "output_type": "stream",
     "text": [
      "Enter no of students:3\n",
      "Enter student 0 name:Ram\n",
      "Enter student 0 rno:1\n",
      "Enter student 0 branch:ISE\n",
      "Enter student 1 name:Raj\n",
      "Enter student 1 rno:2\n",
      "Enter student 1 branch:ISE\n",
      "Enter student 2 name:Mohan\n",
      "Enter student 2 rno:3\n",
      "Enter student 2 branch:CSE\n",
      "Enter branch name to search for:ISE\n",
      "Ram\t1\tISE\n",
      "Raj\t2\tISE\n"
     ]
    }
   ],
   "source": [
    "class Student:\n",
    "    def __init__(self,name,rno,branch):\n",
    "        self.name=name\n",
    "        self.rno=rno\n",
    "        self.branch=branch\n",
    "def studs_in_branch(students,branch):\n",
    "    b_students=[student for student in students if student.branch==branch]\n",
    "    for student in b_students:\n",
    "        print(f'{student.name}\\t{student.rno}\\t{student.branch}')\n",
    "n=int(input('Enter no of students:'))\n",
    "student=[]\n",
    "for i in range(n):\n",
    "    name=input(f'Enter student {i} name:')\n",
    "    rno=input(f'Enter student {i} rno:')\n",
    "    branch=input(f'Enter student {i} branch:')\n",
    "    student.append(Student(name,rno,branch))\n",
    "\n",
    "br=input(\"Enter branch name to search for:\")\n",
    "studs_in_branch(student,br)"
   ]
  },
  {
   "cell_type": "code",
   "execution_count": null,
   "id": "ce679c37",
   "metadata": {},
   "outputs": [],
   "source": [
    "s='abcdabcd'\n",
    "s2='abcdcba'\n",
    "def ispalindrome(s2):\n",
    "    s2_r=s2[::-1]\n",
    "    return s2==s2_r\n",
    "\n",
    "def issymmetric(s2):\n",
    "    n=int(len(s2)/2)\n",
    "    s2_h=s2[0:n]\n",
    "    return s2==(s2_h+s2_h)\n",
    "print(ispalindrome(s2))\n",
    "print(issymmetric(s))"
   ]
  },
  {
   "cell_type": "code",
   "execution_count": null,
   "id": "7666571a",
   "metadata": {},
   "outputs": [],
   "source": [
    "s=input(\"Enter a String:\")\n",
    "vowels=\"aeiouAEIOU\"\n",
    "cnt=0\n",
    "for c in s:\n",
    "    if c in vowels:\n",
    "        cnt=cnt+1\n",
    "    if(c!='e' and c!='s'):\n",
    "        print(c)\n",
    "print(cnt)"
   ]
  },
  {
   "cell_type": "code",
   "execution_count": 26,
   "id": "85bfdd9d",
   "metadata": {},
   "outputs": [
    {
     "name": "stdout",
     "output_type": "stream",
     "text": [
      "Enter a String:India is the best\n",
      "is the best\n"
     ]
    }
   ],
   "source": [
    "s=input(\"Enter a String:\")\n",
    "lst=s.split(\" \")\n",
    "del(lst[0])\n",
    "lstr = ' '.join([str(elem) for elem in lst])\n",
    "print(lstr)"
   ]
  },
  {
   "cell_type": "code",
   "execution_count": 29,
   "id": "005e5dee",
   "metadata": {},
   "outputs": [
    {
     "name": "stdout",
     "output_type": "stream",
     "text": [
      "Enter a String:aabbbccccd\n",
      "Character is a and count is 2\n",
      "\n",
      "Character is b and count is 3\n",
      "\n",
      "Character is c and count is 4\n",
      "\n",
      "Character is d and count is 1\n",
      "\n"
     ]
    }
   ],
   "source": [
    "def hist(s):\n",
    "    histo={}\n",
    "    for c in s:\n",
    "        if(c.isalpha()):\n",
    "            histo[c]=histo.get(c,0)+1\n",
    "    return histo\n",
    "s=input(\"Enter a String:\")\n",
    "histo=hist(s)\n",
    "for char,cnt in histo.items():\n",
    "    print(f'Character is {char} and count is {cnt}\\n')"
   ]
  },
  {
   "cell_type": "code",
   "execution_count": 7,
   "id": "2d127318",
   "metadata": {},
   "outputs": [
    {
     "name": "stderr",
     "output_type": "stream",
     "text": [
      "No artists with labels found to put in legend.  Note that artists whose label start with an underscore are ignored when legend() is called with no argument.\n"
     ]
    },
    {
     "data": {
      "image/png": "[encoded data removed]",
      "text/plain": [
       "<Figure size 640x480 with 1 Axes>"
      ]
     },
     "metadata": {},
     "output_type": "display_data"
    },
    {
     "name": "stderr",
     "output_type": "stream",
     "text": [
      "No artists with labels found to put in legend.  Note that artists whose label start with an underscore are ignored when legend() is called with no argument.\n"
     ]
    },
    {
     "name": "stdout",
     "output_type": "stream",
     "text": [
      "Mean is:num1    4.0\n",
      "num2    8.0\n",
      "dtype: float64\n",
      "\n",
      "variance is:num1     4.0\n",
      "num2    16.0\n",
      "dtype: float64\n",
      "\n",
      "Median is:5.5\n",
      "\n",
      "Std is:num1    2.0\n",
      "num2    4.0\n",
      "dtype: float64\n",
      "\n"
     ]
    },
    {
     "data": {
      "image/png": "[encoded data removed]",
      "text/plain": [
       "<Figure size 640x480 with 1 Axes>"
      ]
     },
     "metadata": {},
     "output_type": "display_data"
    }
   ],
   "source": [
    "import matplotlib.pyplot as plt\n",
    "import pandas as pd\n",
    "import numpy as np\n",
    "from scipy import stats\n",
    "\n",
    "def read(file_path):\n",
    "    if file_path.endswith('.csv'):\n",
    "        return pd.read_csv(file_path)\n",
    "    elif file_path.endswith('.xlsx'):\n",
    "        return pd.read_excel(file_path)\n",
    "    else: raise ValueError(\"File extension not supported\")\n",
    "    \n",
    "def calc_mean(data):\n",
    "    return np.mean(data)\n",
    "def calc_var(data):\n",
    "    return np.var(data)\n",
    "def calc_median(data):\n",
    "    return np.median(data)\n",
    "def calc_std(data):\n",
    "    return np.std(data)\n",
    "\n",
    "def calc_regression_line(data,x_lab,y_lab):\n",
    "    slope,intercept,r_val,p_val,std_err=stats.linregress(data[x_lab],data[y_lab])\n",
    "    return slope,intercept\n",
    "def scatter_plot(data,x_lab,y_lab):\n",
    "    plt.scatter(data[x_lab],data[y_lab]);\n",
    "    plt.title(\"Scatter plot\")\n",
    "    plt.xlabel(x_lab)\n",
    "    plt.ylabel(y_lab)\n",
    "    plt.legend()\n",
    "    plt.show()\n",
    "def plot_regression(data,x_lab,y_lab):\n",
    "    slope,intercept=calc_regression_line(data,x_lab,y_lab)\n",
    "    plt.scatter(data[x_lab],data[y_lab])\n",
    "    plt.plot(data[x_lab],slope*data[y_lab]+intercept,color='red')\n",
    "    plt.title(\"Regression line\")\n",
    "    plt.xlabel(x_lab)\n",
    "    plt.ylabel(y_lab)\n",
    "    plt.legend()\n",
    "    plt.show()\n",
    "\n",
    "path=\"sample2.csv\"\n",
    "x_lab='num1'\n",
    "y_lab='num2'\n",
    "data=read(path)\n",
    "\n",
    "scatter_plot(data,x_lab,y_lab)\n",
    "\n",
    "print(f'Mean is:{calc_mean(data)}\\n')\n",
    "print(f'variance is:{calc_var(data)}\\n')\n",
    "print(f'Median is:{calc_median(data)}\\n')\n",
    "print(f'Std is:{calc_std(data)}\\n')\n",
    "\n",
    "plot_regression(data,x_lab,y_lab)"
   ]
  },
  {
   "cell_type": "code",
   "execution_count": 9,
   "id": "8930818e",
   "metadata": {},
   "outputs": [
    {
     "name": "stdout",
     "output_type": "stream",
     "text": [
      "   num1  num2\n",
      "0     1     2\n",
      "1     2     4\n",
      "2     3     6\n",
      "3     4     8\n",
      "4     5    10\n",
      "5     6    12\n",
      "6     7    14\n"
     ]
    },
    {
     "data": {
      "image/png": "[encoded data removed]",
      "text/plain": [
       "<Figure size 640x480 with 1 Axes>"
      ]
     },
     "metadata": {},
     "output_type": "display_data"
    },
    {
     "data": {
      "image/png": "[encoded data removed]",
      "text/plain": [
       "<Figure size 640x480 with 1 Axes>"
      ]
     },
     "metadata": {},
     "output_type": "display_data"
    },
    {
     "data": {
      "image/png": "[encoded data removed]",
      "text/plain": [
       "<Figure size 640x480 with 1 Axes>"
      ]
     },
     "metadata": {},
     "output_type": "display_data"
    },
    {
     "data": {
      "image/png": "[encoded data removed]",
      "text/plain": [
       "<Figure size 640x480 with 1 Axes>"
      ]
     },
     "metadata": {},
     "output_type": "display_data"
    }
   ],
   "source": [
    "import pandas as pd\n",
    "import matplotlib.pyplot as plt\n",
    "import seaborn as sns\n",
    "\n",
    "data=pd.read_csv('sample2.csv')\n",
    "print(data.head(10))\n",
    "\n",
    "sns.scatterplot(x='num1',y='num2',data=data)\n",
    "plt.title(\"Scatter plot of num1 vs num2\")\n",
    "plt.show()\n",
    "\n",
    "sns.lineplot(x='num1',y='num2',data=data,ci=None)\n",
    "plt.title(\"Line plot of num1 vs num2\")\n",
    "plt.show()\n",
    "\n",
    "sns.barplot(x='num1',y='num2',data=data,ci=None)\n",
    "plt.title(\"Bar plot of num1 vs num2\")\n",
    "plt.show()\n",
    "\n",
    "plt.hist(data['num1'],bins=20,color='skyblue',edgecolor='red')\n",
    "plt.title(\"Histogram of num1 vs num2\")\n",
    "plt.xlabel('numbers')\n",
    "plt.ylabel('freq')\n",
    "plt.show()\n"
   ]
  },
  {
   "cell_type": "code",
   "execution_count": null,
   "id": "8a01acf0",
   "metadata": {},
   "outputs": [],
   "source": [
    "import matplotlib.pyplot as plt\n",
    "import pandas as pd\n",
    "import seaborn as sns\n",
    "\n",
    "result_data=pd.read_csv('result.csv')\n",
    "print(f'{result_data.head(10)}')\n",
    "\n",
    "subjects=result_data.columns[2:-1]\n",
    "pass_fail_count={'Overall':{'Pass':0,'Fail':0}}\n",
    "\n",
    "for subject in subjects:\n",
    "    pass_fail_count[subject]={'Pass':read_data[read_data[subject]>40][subject].count(),\n",
    "                              'Fail':read_data[read_data[subject]<40][subject].count()}\n",
    "    pass_fail_count['Overall']['Pass']+=pass_fail_count[subject]['Pass']\n",
    "    pass_fail_count['Overall']['Fail']+=pass_fail_count[subject]['Fail']\n",
    "\n",
    "print(\"Pass/Fail counts\")\n",
    "print(pd.DataFrame(pass_fail_count))\n",
    "\n",
    "sns.scatterplot(x='subject1',y='subject2',hue='Result',data=result_data)\n",
    "plt.title()\n",
    "plt.plot()\n",
    "\n",
    "df=pd.DataFrame(pass_fail_count).T\n",
    "df.plot(kind='bar',stacked=True)\n",
    "plt.title(\"Pass/Fail counts by subject\")\n",
    "plt.xlabel('subject1')\n",
    "plt.ylabel('subject2')\n",
    "plt.show()\n",
    "\n",
    "df2=pd.DataFrame(pass_fail_count['Overall'],index=['Overall'])\n",
    "df2.plot(kind='bar',stacked=True)\n",
    "plt.title(\"Pass/Fail counts Overall\")\n",
    "plt.xlabel('subject1')\n",
    "plt.ylabel('subject2')\n",
    "plt.show()\n",
    "\n",
    "plt.hist(result_data['Total'],bins=20,color='skyblue',edgecolor='black')\n",
    "plt.title(\"Pass/Fail counts Histogram\")\n",
    "plt.xlabel('subject1')\n",
    "plt.ylabel('subject2')\n",
    "plt.show()"
   ]
  }
 ],
 "metadata": {
  "kernelspec": {
   "display_name": "Python 3 (ipykernel)",
   "language": "python",
   "name": "python3"
  },
  "language_info": {
   "codemirror_mode": {
    "name": "ipython",
    "version": 3
   },
   "file_extension": ".py",
   "mimetype": "text/x-python",
   "name": "python",
   "nbconvert_exporter": "python",
   "pygments_lexer": "ipython3",
   "version": "3.9.13"
  }
 },
 "nbformat": 4,
 "nbformat_minor": 5
}
